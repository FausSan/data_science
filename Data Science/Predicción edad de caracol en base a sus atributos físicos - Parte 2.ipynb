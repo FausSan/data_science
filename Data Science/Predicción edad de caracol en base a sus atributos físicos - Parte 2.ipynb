{
 "cells": [
  {
   "cell_type": "markdown",
   "id": "3a5fb4a9",
   "metadata": {
    "toc": true
   },
   "source": [
    "<h1>Segunda Parte<span class=\"tocSkip\"></span></h1>\n",
    "<div class=\"toc\"><ul class=\"toc-item\"><li><span><a href=\"#TRANSFORMACIONES:-ESTANDARIZACION\" data-toc-modified-id=\"TRANSFORMACIONES:-ESTANDARIZACION-1\"><span class=\"toc-item-num\">1&nbsp;&nbsp;</span>TRANSFORMACIONES: ESTANDARIZACION</a></span><ul class=\"toc-item\"><li><span><a href=\"#MODELO-KNN-CON-ESTANDARIZACION\" data-toc-modified-id=\"MODELO-KNN-CON-ESTANDARIZACION-1.1\"><span class=\"toc-item-num\">1.1&nbsp;&nbsp;</span>MODELO KNN CON ESTANDARIZACION</a></span></li><li><span><a href=\"#MODELO-REGRESION-CON-ESTANDARIZACION\" data-toc-modified-id=\"MODELO-REGRESION-CON-ESTANDARIZACION-1.2\"><span class=\"toc-item-num\">1.2&nbsp;&nbsp;</span>MODELO REGRESION CON ESTANDARIZACION</a></span></li><li><span><a href=\"#REGULARIZACION\" data-toc-modified-id=\"REGULARIZACION-1.3\"><span class=\"toc-item-num\">1.3&nbsp;&nbsp;</span>REGULARIZACION</a></span><ul class=\"toc-item\"><li><span><a href=\"#RIDGE\" data-toc-modified-id=\"RIDGE-1.3.1\"><span class=\"toc-item-num\">1.3.1&nbsp;&nbsp;</span>RIDGE</a></span></li><li><span><a href=\"#RIDGE-con-GRID\" data-toc-modified-id=\"RIDGE-con-GRID-1.3.2\"><span class=\"toc-item-num\">1.3.2&nbsp;&nbsp;</span>RIDGE con GRID</a></span></li><li><span><a href=\"#LASSO\" data-toc-modified-id=\"LASSO-1.3.3\"><span class=\"toc-item-num\">1.3.3&nbsp;&nbsp;</span>LASSO</a></span></li><li><span><a href=\"#LASSO-con-GRID\" data-toc-modified-id=\"LASSO-con-GRID-1.3.4\"><span class=\"toc-item-num\">1.3.4&nbsp;&nbsp;</span>LASSO con GRID</a></span></li><li><span><a href=\"#ELASTIC\" data-toc-modified-id=\"ELASTIC-1.3.5\"><span class=\"toc-item-num\">1.3.5&nbsp;&nbsp;</span>ELASTIC</a></span></li></ul></li><li><span><a href=\"#RESUMEN\" data-toc-modified-id=\"RESUMEN-1.4\"><span class=\"toc-item-num\">1.4&nbsp;&nbsp;</span>RESUMEN</a></span><ul class=\"toc-item\"><li><span><a href=\"#SIN-REGULARIZAR:\" data-toc-modified-id=\"SIN-REGULARIZAR:-1.4.1\"><span class=\"toc-item-num\">1.4.1&nbsp;&nbsp;</span>SIN REGULARIZAR:</a></span></li><li><span><a href=\"#LASSO:\" data-toc-modified-id=\"LASSO:-1.4.2\"><span class=\"toc-item-num\">1.4.2&nbsp;&nbsp;</span>LASSO:</a></span></li><li><span><a href=\"#RIDGE\" data-toc-modified-id=\"RIDGE-1.4.3\"><span class=\"toc-item-num\">1.4.3&nbsp;&nbsp;</span>RIDGE</a></span></li><li><span><a href=\"#ELASTIC\" data-toc-modified-id=\"ELASTIC-1.4.4\"><span class=\"toc-item-num\">1.4.4&nbsp;&nbsp;</span>ELASTIC</a></span></li></ul></li></ul></li><li><span><a href=\"#TRANSFORMACIONES:-NORMALIZACION\" data-toc-modified-id=\"TRANSFORMACIONES:-NORMALIZACION-2\"><span class=\"toc-item-num\">2&nbsp;&nbsp;</span>TRANSFORMACIONES: NORMALIZACION</a></span><ul class=\"toc-item\"><li><span><a href=\"#MODELO-KNN-CON-NORMALIZACION\" data-toc-modified-id=\"MODELO-KNN-CON-NORMALIZACION-2.1\"><span class=\"toc-item-num\">2.1&nbsp;&nbsp;</span>MODELO KNN CON NORMALIZACION</a></span></li><li><span><a href=\"#MODELO-REGRESION-CON-NORMALIZACION\" data-toc-modified-id=\"MODELO-REGRESION-CON-NORMALIZACION-2.2\"><span class=\"toc-item-num\">2.2&nbsp;&nbsp;</span>MODELO REGRESION CON NORMALIZACION</a></span></li><li><span><a href=\"#SVM-con-kernel-lineal--y-Normalizacion\" data-toc-modified-id=\"SVM-con-kernel-lineal--y-Normalizacion-2.3\"><span class=\"toc-item-num\">2.3&nbsp;&nbsp;</span>SVM con kernel lineal  y Normalizacion</a></span></li><li><span><a href=\"#SVM-con-kernel-rbf-y-Normalizacion\" data-toc-modified-id=\"SVM-con-kernel-rbf-y-Normalizacion-2.4\"><span class=\"toc-item-num\">2.4&nbsp;&nbsp;</span>SVM con kernel rbf y Normalizacion</a></span></li><li><span><a href=\"#SVM-con-kernel-sigmoid-con-Normalizacion\" data-toc-modified-id=\"SVM-con-kernel-sigmoid-con-Normalizacion-2.5\"><span class=\"toc-item-num\">2.5&nbsp;&nbsp;</span>SVM con kernel sigmoid con Normalizacion</a></span></li><li><span><a href=\"#SVM-con-kernel-poly-Y-Normalizacion\" data-toc-modified-id=\"SVM-con-kernel-poly-Y-Normalizacion-2.6\"><span class=\"toc-item-num\">2.6&nbsp;&nbsp;</span>SVM con kernel poly Y Normalizacion</a></span></li></ul></li><li><span><a href=\"#RESULTADOS-DE-LOS-MODELOS\" data-toc-modified-id=\"RESULTADOS-DE-LOS-MODELOS-3\"><span class=\"toc-item-num\">3&nbsp;&nbsp;</span>RESULTADOS DE LOS MODELOS</a></span><ul class=\"toc-item\"><li><ul class=\"toc-item\"><li><span><a href=\"#SIN-NORMALIZAR\" data-toc-modified-id=\"SIN-NORMALIZAR-3.0.1\"><span class=\"toc-item-num\">3.0.1&nbsp;&nbsp;</span>SIN NORMALIZAR</a></span></li><li><span><a href=\"#CON-ESTANDARIZACION:\" data-toc-modified-id=\"CON-ESTANDARIZACION:-3.0.2\"><span class=\"toc-item-num\">3.0.2&nbsp;&nbsp;</span>CON ESTANDARIZACION:</a></span></li><li><span><a href=\"#CON-NORMALIZACION:\" data-toc-modified-id=\"CON-NORMALIZACION:-3.0.3\"><span class=\"toc-item-num\">3.0.3&nbsp;&nbsp;</span>CON NORMALIZACION:</a></span></li></ul></li></ul></li><li><span><a href=\"#ELECCION-DEL-MODELO\" data-toc-modified-id=\"ELECCION-DEL-MODELO-4\"><span class=\"toc-item-num\">4&nbsp;&nbsp;</span>ELECCION DEL MODELO</a></span></li><li><span><a href=\"#MODELO-PRODUCCION\" data-toc-modified-id=\"MODELO-PRODUCCION-5\"><span class=\"toc-item-num\">5&nbsp;&nbsp;</span>MODELO PRODUCCION</a></span><ul class=\"toc-item\"><li><span><a href=\"#NUEVOS-DATOS\" data-toc-modified-id=\"NUEVOS-DATOS-5.1\"><span class=\"toc-item-num\">5.1&nbsp;&nbsp;</span>NUEVOS DATOS</a></span></li></ul></li></ul></div>"
   ]
  },
  {
   "cell_type": "code",
   "execution_count": 1,
   "id": "e863bffc",
   "metadata": {
    "ExecuteTime": {
     "end_time": "2021-10-05T03:08:58.968605Z",
     "start_time": "2021-10-05T03:08:58.949603Z"
    }
   },
   "outputs": [],
   "source": [
    "import numpy as np  \n",
    "import pandas as pd  \n",
    "from sklearn.model_selection import train_test_split\n",
    "import seaborn as sns\n",
    "import matplotlib.pyplot as plt\n",
    "\n",
    "import warnings\n",
    "warnings.simplefilter('ignore')"
   ]
  },
  {
   "cell_type": "code",
   "execution_count": 2,
   "id": "98e0e385",
   "metadata": {
    "ExecuteTime": {
     "end_time": "2021-10-05T03:09:04.224411Z",
     "start_time": "2021-10-05T03:09:04.195863Z"
    }
   },
   "outputs": [],
   "source": [
    "df= pd.read_csv(\"abalone1_3677.csv\", sep=',')"
   ]
  },
  {
   "cell_type": "code",
   "execution_count": 3,
   "id": "11693472",
   "metadata": {
    "ExecuteTime": {
     "end_time": "2021-10-05T03:09:06.725698Z",
     "start_time": "2021-10-05T03:09:06.700629Z"
    }
   },
   "outputs": [],
   "source": [
    "X= df.drop(axis=1, columns= 'Rings')\n",
    "y= df[['Rings']]"
   ]
  },
  {
   "cell_type": "code",
   "execution_count": 4,
   "id": "e347ba40",
   "metadata": {
    "ExecuteTime": {
     "end_time": "2021-10-05T03:09:09.464343Z",
     "start_time": "2021-10-05T03:09:09.432789Z"
    }
   },
   "outputs": [],
   "source": [
    "X_train, X_test, y_train, y_test = train_test_split(X,y, test_size= 0.20, random_state= 123)\n",
    "X_val_train, X_val_test, y_val_train, y_val_test = train_test_split(X_train, y_train, test_size= 0.20, random_state= 123)"
   ]
  },
  {
   "cell_type": "markdown",
   "id": "cf6cd1e9",
   "metadata": {},
   "source": [
    "***El modelo de Arbol no se volvera a evaluar con normalizacion o estandarizacion ya que el mismo no es sensible a problemas de escala***"
   ]
  },
  {
   "cell_type": "markdown",
   "id": "874bed88",
   "metadata": {},
   "source": [
    "### TRANSFORMACIONES: ESTANDARIZACION"
   ]
  },
  {
   "cell_type": "code",
   "execution_count": 5,
   "id": "c0b625b5",
   "metadata": {
    "ExecuteTime": {
     "end_time": "2021-10-04T21:46:22.863383Z",
     "start_time": "2021-10-04T21:46:22.838391Z"
    }
   },
   "outputs": [],
   "source": [
    "from sklearn.preprocessing import StandardScaler\n",
    "from sklearn.compose import ColumnTransformer\n",
    "from sklearn.preprocessing import OneHotEncoder"
   ]
  },
  {
   "cell_type": "code",
   "execution_count": 6,
   "id": "c50b8a30",
   "metadata": {
    "ExecuteTime": {
     "end_time": "2021-10-04T21:46:22.879396Z",
     "start_time": "2021-10-04T21:46:22.867393Z"
    }
   },
   "outputs": [],
   "source": [
    "t_estandard=(\"estandarizador\",StandardScaler(),['Length', 'Diameter', 'Height', 'Whole weight', 'Shucked weight',\n",
    "                                                'Viscera weight', 'Shell weight'])"
   ]
  },
  {
   "cell_type": "code",
   "execution_count": 7,
   "id": "6839c2d8",
   "metadata": {
    "ExecuteTime": {
     "end_time": "2021-10-04T21:46:22.910403Z",
     "start_time": "2021-10-04T21:46:22.891392Z"
    }
   },
   "outputs": [],
   "source": [
    "t_nominal=(\"onehot\",OneHotEncoder(sparse=False),['Sex'])"
   ]
  },
  {
   "cell_type": "code",
   "execution_count": 8,
   "id": "f051c690",
   "metadata": {
    "ExecuteTime": {
     "end_time": "2021-10-04T21:46:22.926389Z",
     "start_time": "2021-10-04T21:46:22.916397Z"
    }
   },
   "outputs": [],
   "source": [
    "transformador_columnas_E = ColumnTransformer(transformers=[t_estandard,t_nominal],\n",
    "                                                       remainder='passthrough')"
   ]
  },
  {
   "cell_type": "code",
   "execution_count": 9,
   "id": "bedb185b",
   "metadata": {
    "ExecuteTime": {
     "end_time": "2021-10-04T21:46:23.005974Z",
     "start_time": "2021-10-04T21:46:22.935391Z"
    }
   },
   "outputs": [],
   "source": [
    "transformador_columnas_E.fit(X_val_train)\n",
    "X_val_train_E=transformador_columnas_E.transform(X_val_train)\n",
    "X_val_test_E=transformador_columnas_E.transform(X_val_test)"
   ]
  },
  {
   "cell_type": "code",
   "execution_count": 10,
   "id": "a1cdc700",
   "metadata": {
    "ExecuteTime": {
     "end_time": "2021-10-04T21:46:23.020971Z",
     "start_time": "2021-10-04T21:46:23.009966Z"
    }
   },
   "outputs": [],
   "source": [
    "X_val_train_E= pd.DataFrame(X_val_train_E)\n",
    "X_val_test_E= pd.DataFrame(X_val_test_E)"
   ]
  },
  {
   "cell_type": "markdown",
   "id": "25a1c772",
   "metadata": {},
   "source": [
    "#### MODELO KNN CON ESTANDARIZACION"
   ]
  },
  {
   "cell_type": "code",
   "execution_count": 11,
   "id": "e504de22",
   "metadata": {
    "ExecuteTime": {
     "end_time": "2021-10-04T21:46:23.289976Z",
     "start_time": "2021-10-04T21:46:23.026970Z"
    }
   },
   "outputs": [],
   "source": [
    "# librerías para los modelos\n",
    "from sklearn import neighbors\n",
    "\n",
    "# Importamos las librerías para evaluar\n",
    "from sklearn.metrics import mean_squared_error, r2_score"
   ]
  },
  {
   "cell_type": "code",
   "execution_count": 12,
   "id": "76b88a85",
   "metadata": {
    "ExecuteTime": {
     "end_time": "2021-10-04T21:46:24.449583Z",
     "start_time": "2021-10-04T21:46:23.294970Z"
    }
   },
   "outputs": [
    {
     "name": "stdout",
     "output_type": "stream",
     "text": [
      "Valor de :profundidad  19\n",
      "RMSE:  2.304\n"
     ]
    }
   ],
   "source": [
    "k_valores=np.arange(1,21,1)\n",
    "\n",
    "k_max=0\n",
    "RMSE_k_max=100\n",
    "\n",
    "for k in k_valores:\n",
    "    modelokNN = neighbors.KNeighborsRegressor(n_neighbors=k,weights='uniform')\n",
    "    modelokNN.fit(X_val_train_E, y_val_train)\n",
    "    \n",
    "    y_val_pred_E = modelokNN.predict(X_val_test_E)\n",
    "    \n",
    "    RMSEkNN = mean_squared_error(y_val_test, y_val_pred_E, squared=False)\n",
    "    \n",
    "    if RMSEkNN < RMSE_k_max:\n",
    "        k_max=k\n",
    "        RMSE_k_max=RMSEkNN\n",
    "\n",
    "        \n",
    "    \n",
    "print('Valor de :profundidad ', k_max)\n",
    "print(\"RMSE: \", round(RMSE_k_max,3))\n"
   ]
  },
  {
   "cell_type": "code",
   "execution_count": 13,
   "id": "34352309",
   "metadata": {
    "ExecuteTime": {
     "end_time": "2021-10-04T21:46:25.603078Z",
     "start_time": "2021-10-04T21:46:24.455565Z"
    }
   },
   "outputs": [
    {
     "name": "stdout",
     "output_type": "stream",
     "text": [
      "Valor de :profundidad  19\n",
      "RMSE:  2.299\n"
     ]
    }
   ],
   "source": [
    "k_valores=np.arange(1,21,1)\n",
    "\n",
    "k_max=0\n",
    "RMSE_k_max=100\n",
    "\n",
    "for k in k_valores:\n",
    "    modelokNN = neighbors.KNeighborsRegressor(n_neighbors=k,weights='distance')\n",
    "    modelokNN.fit(X_val_train_E, y_val_train)\n",
    "    \n",
    "    y_val_pred_E = modelokNN.predict(X_val_test_E)\n",
    "    \n",
    "    RMSEkNN = mean_squared_error(y_val_test, y_val_pred_E, squared=False)\n",
    "   \n",
    "    \n",
    "    if RMSEkNN < RMSE_k_max:\n",
    "        k_max=k\n",
    "        RMSE_k_max=RMSEkNN\n",
    "\n",
    "        \n",
    "    \n",
    "print('Valor de :profundidad ', k_max)\n",
    "print(\"RMSE: \", round(RMSE_k_max,3))\n",
    "\n"
   ]
  },
  {
   "cell_type": "markdown",
   "id": "225c8511",
   "metadata": {},
   "source": [
    "#### MODELO REGRESION CON ESTANDARIZACION"
   ]
  },
  {
   "cell_type": "code",
   "execution_count": 14,
   "id": "0081e40d",
   "metadata": {
    "ExecuteTime": {
     "end_time": "2021-10-04T21:46:25.619076Z",
     "start_time": "2021-10-04T21:46:25.609074Z"
    }
   },
   "outputs": [],
   "source": [
    "from sklearn import linear_model"
   ]
  },
  {
   "cell_type": "code",
   "execution_count": 15,
   "id": "0e50ffed",
   "metadata": {
    "ExecuteTime": {
     "end_time": "2021-10-04T21:46:25.713068Z",
     "start_time": "2021-10-04T21:46:25.625081Z"
    }
   },
   "outputs": [
    {
     "name": "stdout",
     "output_type": "stream",
     "text": [
      "COEFICIENTE de la variable x:  [[ 0.05457105  0.93129528  0.30157526  3.79824019 -4.18805203 -0.91779026\n",
      "   1.55715128  0.27835815 -0.53894273  0.26058458]]\n",
      "Término Independiente o INTERCEPT:  [9.92101277]\n",
      "EVALUACIÓN del modelo de Regresión Lineal: \n",
      "Coeficiente de Determinación R2:  0.5296\n",
      "MSE:  5.150492\n",
      "RMSE:  2.26947\n"
     ]
    }
   ],
   "source": [
    "modelo = linear_model.LinearRegression(fit_intercept=True)            \n",
    "modelo.fit(X_val_train_E, y_val_train)\n",
    "\n",
    "print('COEFICIENTE de la variable x: ',modelo.coef_)\n",
    "print('Término Independiente o INTERCEPT: ',modelo.intercept_)\n",
    "print(\"EVALUACIÓN del modelo de Regresión Lineal: \")\n",
    "print(\"Coeficiente de Determinación R2: \",round(modelo.score(X_val_test_E,y_val_test),5))\n",
    "\n",
    "y_val_pred_RE = modelo.predict(X_val_test_E)                                       \n",
    "print(\"MSE: \",round(mean_squared_error(y_val_test, y_val_pred_RE),6))            \n",
    "print(\"RMSE: \",round(mean_squared_error(y_val_test, y_val_pred_RE, squared=False),6)) "
   ]
  },
  {
   "cell_type": "markdown",
   "id": "bef59353",
   "metadata": {},
   "source": [
    "#### REGULARIZACION"
   ]
  },
  {
   "cell_type": "markdown",
   "id": "bee51cc7",
   "metadata": {},
   "source": [
    "Para mejor alpha, luego de algunas pruebas manuales con distintos valores, y para corroborar las elecciones encontre GridSearchCV, que permite entre otras cualidades, elegir los mejores hiperparametros utilizando (ridge_regressor.best_params_) y (ridge_regressor.best_score_)\n",
    "A continuacion se muestra el mejor alpha que en este caso es 1 (generado de la manera que vimos en clase) y luego con Grid"
   ]
  },
  {
   "cell_type": "markdown",
   "id": "e40deea9",
   "metadata": {},
   "source": [
    "##### RIDGE"
   ]
  },
  {
   "cell_type": "code",
   "execution_count": 16,
   "id": "baa52092",
   "metadata": {
    "ExecuteTime": {
     "end_time": "2021-10-04T21:46:25.792070Z",
     "start_time": "2021-10-04T21:46:25.717091Z"
    }
   },
   "outputs": [
    {
     "name": "stdout",
     "output_type": "stream",
     "text": [
      "EVALUACIÓN del modelo de Regresión Lineal: \n",
      "R2_Ridge:  0.529836\n",
      "Promedio de yval_test=  Rings    9.908319\n",
      "dtype: float64\n",
      "RMSE_Ridge:  2.268897\n",
      "RMSE/prom(y) %= Rings    22.898907\n",
      "dtype: float64\n",
      "MSE:  5.147893\n"
     ]
    }
   ],
   "source": [
    "from sklearn.linear_model import Ridge\n",
    "\n",
    "modelo_ridge=Ridge(alpha=1)\n",
    "modelo_ridge.fit(X_val_train_E, y_val_train)\n",
    "R2_Ridge=modelo_ridge.score(X_val_test_E, y_val_test)\n",
    "\n",
    "print(\"EVALUACIÓN del modelo de Regresión Lineal: \")\n",
    "print(\"R2_Ridge: \",round(R2_Ridge,6)) # evaluamos el modelo\n",
    "y_pred_Ridge = modelo_ridge.predict(X_val_test_E)\n",
    "\n",
    "RMSE_Ridge= mean_squared_error(y_val_test, y_pred_Ridge, squared=False)\n",
    "MSE_Ridge= mean_squared_error(y_val_test, y_pred_Ridge)\n",
    " \n",
    "Promedio_yval_test = np.mean(y_val_test)\n",
    "\n",
    "print(\"Promedio de yval_test= \",round(Promedio_yval_test,6) )\n",
    "print(\"RMSE_Ridge: \",round(RMSE_Ridge,6))\n",
    "print(\"RMSE/prom(y) %=\",round(RMSE_Ridge/Promedio_yval_test*100,6))\n",
    "\n",
    "print(\"MSE: \",round(MSE_Ridge,6))"
   ]
  },
  {
   "cell_type": "code",
   "execution_count": 17,
   "id": "d993daeb",
   "metadata": {
    "ExecuteTime": {
     "end_time": "2021-10-04T21:46:25.808075Z",
     "start_time": "2021-10-04T21:46:25.796074Z"
    }
   },
   "outputs": [
    {
     "data": {
      "text/plain": [
       "array([[ 0.05929025,  0.9228434 ,  0.30271396,  3.54824938, -4.06791252,\n",
       "        -0.86161504,  1.64029277,  0.28044248, -0.54070954,  0.26026706]])"
      ]
     },
     "execution_count": 17,
     "metadata": {},
     "output_type": "execute_result"
    }
   ],
   "source": [
    "modelo_ridge.coef_"
   ]
  },
  {
   "cell_type": "code",
   "execution_count": 18,
   "id": "a55737e1",
   "metadata": {
    "ExecuteTime": {
     "end_time": "2021-10-04T21:46:26.362591Z",
     "start_time": "2021-10-04T21:46:25.812077Z"
    }
   },
   "outputs": [
    {
     "data": {
      "text/plain": [
       "<AxesSubplot:ylabel='Density'>"
      ]
     },
     "execution_count": 18,
     "metadata": {},
     "output_type": "execute_result"
    },
    {
     "data": {
      "image/png": "[encoded data removed]",
      "text/plain": [
       "<Figure size 432x288 with 1 Axes>"
      ]
     },
     "metadata": {
      "needs_background": "light"
     },
     "output_type": "display_data"
    }
   ],
   "source": [
    "sns.distplot(y_val_test-y_pred_Ridge)"
   ]
  },
  {
   "cell_type": "markdown",
   "id": "4ab9b8f3",
   "metadata": {},
   "source": [
    "##### RIDGE con GRID"
   ]
  },
  {
   "cell_type": "code",
   "execution_count": 19,
   "id": "67806f86",
   "metadata": {
    "ExecuteTime": {
     "end_time": "2021-10-04T21:46:28.644370Z",
     "start_time": "2021-10-04T21:46:26.368602Z"
    },
    "scrolled": false
   },
   "outputs": [
    {
     "name": "stdout",
     "output_type": "stream",
     "text": [
      "{'alpha': 1}\n",
      "-4.777831188940178\n"
     ]
    },
    {
     "data": {
      "text/plain": [
       "<AxesSubplot:ylabel='Density'>"
      ]
     },
     "execution_count": 19,
     "metadata": {},
     "output_type": "execute_result"
    },
    {
     "data": {
      "image/png": "[encoded data removed]",
      "text/plain": [
       "<Figure size 432x288 with 1 Axes>"
      ]
     },
     "metadata": {
      "needs_background": "light"
     },
     "output_type": "display_data"
    }
   ],
   "source": [
    "from sklearn.linear_model import Ridge\n",
    "from sklearn.model_selection import GridSearchCV\n",
    "\n",
    "ridge=Ridge()\n",
    "parameters={'alpha':[1e-15,1e-10,1e-8,1e-3,1e-2,1,5,10,20,30,35,40,45,50,55,100]}\n",
    "ridge_regressor=GridSearchCV(ridge,parameters,scoring='neg_mean_squared_error',cv=5)\n",
    "ridge_regressor.fit(X_val_train_E, y_val_train)\n",
    "\n",
    "print(ridge_regressor.best_params_)\n",
    "print(ridge_regressor.best_score_)\n",
    "\n",
    "prediction_ridge=ridge_regressor.predict(X_val_test_E)\n",
    "\n",
    "import seaborn as sns\n",
    "sns.distplot(y_val_test-prediction_ridge)"
   ]
  },
  {
   "cell_type": "markdown",
   "id": "a863b1cb",
   "metadata": {},
   "source": [
    "Podemos visualizar que nos da los mismos valores de las metricas, ya que usamos el mismo alpha (hago estos calculos de RMSE y R2 aparte ya que GridSearchCV siempre intenta maximizar su puntuación, por lo que las funciones de pérdida como MSE deben ser negadas"
   ]
  },
  {
   "cell_type": "code",
   "execution_count": 20,
   "id": "2cb14d58",
   "metadata": {
    "ExecuteTime": {
     "end_time": "2021-10-04T21:46:28.690404Z",
     "start_time": "2021-10-04T21:46:28.648379Z"
    }
   },
   "outputs": [
    {
     "name": "stdout",
     "output_type": "stream",
     "text": [
      "R2: 0.5298363014757289\n",
      "Root Mean Squared Error: 2.268896817550806\n"
     ]
    }
   ],
   "source": [
    "ridge2=Ridge(alpha=1,normalize=False)\n",
    "ridge2.fit(X_val_train_E,y_val_train)\n",
    "y_val_pred2 = ridge2.predict(X_val_test_E)\n",
    "\n",
    "print(\"R2: {}\".format(ridge2.score(X_val_test_E, y_val_test)))\n",
    "rmse2 = np.sqrt(mean_squared_error(y_val_test,y_val_pred2))\n",
    "print(\"Root Mean Squared Error: {}\".format(rmse2))"
   ]
  },
  {
   "cell_type": "markdown",
   "id": "0e0cd84b",
   "metadata": {},
   "source": [
    "##### LASSO "
   ]
  },
  {
   "cell_type": "markdown",
   "id": "f369c3c9",
   "metadata": {},
   "source": [
    "De igual manera para LASSO, a continuacion se muestra el mejor alpha que en este caso es 0.001 (generado de la manera que vimos en clase) y luego con Grid."
   ]
  },
  {
   "cell_type": "code",
   "execution_count": 21,
   "id": "b9b3bb39",
   "metadata": {
    "ExecuteTime": {
     "end_time": "2021-10-04T21:53:51.817335Z",
     "start_time": "2021-10-04T21:53:51.805725Z"
    }
   },
   "outputs": [],
   "source": [
    "from sklearn.linear_model import Lasso"
   ]
  },
  {
   "cell_type": "code",
   "execution_count": 22,
   "id": "ccd221a2",
   "metadata": {
    "ExecuteTime": {
     "end_time": "2021-10-04T21:53:53.154840Z",
     "start_time": "2021-10-04T21:53:53.031271Z"
    }
   },
   "outputs": [
    {
     "name": "stdout",
     "output_type": "stream",
     "text": [
      "EVALUACIÓN del modelo de Regresión Lineal: \n",
      "R2_L:  0.529684\n",
      "RMSE_L:  2.269265\n",
      "MSE_L:  5.149565\n",
      "Promedio de yval_test=  Rings    9.908319\n",
      "dtype: float64\n"
     ]
    }
   ],
   "source": [
    "modelo_lasso= Lasso(alpha=0.001)\n",
    "modelo_lasso.fit(X_val_train_E, y_val_train)\n",
    "R2_L= modelo_lasso.score(X_val_test_E, y_val_test)\n",
    "\n",
    "print(\"EVALUACIÓN del modelo de Regresión Lineal: \")\n",
    "print(\"R2_L: \",round(R2_L,6)) # evaluamos el modelo\n",
    "\n",
    "y_pred_L = modelo_lasso.predict(X_val_test_E)\n",
    "\n",
    "RMSE_L= mean_squared_error(y_val_test, y_pred_L, squared=False)\n",
    "MSE_L= mean_squared_error(y_val_test, y_pred_L)\n",
    "\n",
    "Promedio_yval_test_L = np.mean(y_val_test)\n",
    "\n",
    "print(\"RMSE_L: \",round(RMSE_L,6))\n",
    "print(\"MSE_L: \",round(MSE_L,6))\n",
    "print(\"Promedio de yval_test= \",round(Promedio_yval_test_L,6) )"
   ]
  },
  {
   "cell_type": "code",
   "execution_count": 23,
   "id": "5f8b3fe1",
   "metadata": {
    "ExecuteTime": {
     "end_time": "2021-10-04T21:53:54.749648Z",
     "start_time": "2021-10-04T21:53:54.725665Z"
    }
   },
   "outputs": [
    {
     "data": {
      "text/plain": [
       "array([ 0.04139089,  0.93782236,  0.30132166,  3.6414026 , -4.11574001,\n",
       "       -0.86890401,  1.60516024,  0.01595355, -0.79605831, -0.        ])"
      ]
     },
     "execution_count": 23,
     "metadata": {},
     "output_type": "execute_result"
    }
   ],
   "source": [
    "modelo_lasso.coef_"
   ]
  },
  {
   "cell_type": "markdown",
   "id": "258d12c4",
   "metadata": {},
   "source": [
    "##### LASSO con GRID"
   ]
  },
  {
   "cell_type": "code",
   "execution_count": 24,
   "id": "809184cd",
   "metadata": {
    "ExecuteTime": {
     "end_time": "2021-10-04T21:53:59.265971Z",
     "start_time": "2021-10-04T21:53:56.285791Z"
    },
    "scrolled": true
   },
   "outputs": [
    {
     "name": "stdout",
     "output_type": "stream",
     "text": [
      "{'alpha': 0.001}\n",
      "-4.777322336821404\n"
     ]
    },
    {
     "data": {
      "text/plain": [
       "<AxesSubplot:ylabel='Density'>"
      ]
     },
     "execution_count": 24,
     "metadata": {},
     "output_type": "execute_result"
    },
    {
     "data": {
      "image/png": "[encoded data removed]",
      "text/plain": [
       "<Figure size 432x288 with 1 Axes>"
      ]
     },
     "metadata": {
      "needs_background": "light"
     },
     "output_type": "display_data"
    }
   ],
   "source": [
    "\n",
    "lasso=Lasso()\n",
    "parameters={'alpha':[1e-15,1e-10,1e-8,1e-3,1e-2,1,5,10,20,30,35,40,45,50,55,100]}\n",
    "lasso_regressor=GridSearchCV(lasso,parameters,scoring='neg_mean_squared_error',cv=5)\n",
    "lasso_regressor.fit(X_val_train_E, y_val_train)\n",
    "\n",
    "print(lasso_regressor.best_params_)\n",
    "print(lasso_regressor.best_score_)\n",
    "\n",
    "prediction_lasso=lasso_regressor.predict(X_val_test_E)\n",
    "prediction_lasso=prediction_lasso.reshape(589,1)\n",
    "sns.distplot(y_val_test-prediction_lasso)\n"
   ]
  },
  {
   "cell_type": "markdown",
   "id": "2b5dba23",
   "metadata": {},
   "source": [
    "Podemos visualizar que nos da los mismos valores de las metricas, ya que usamos el mismo alpha"
   ]
  },
  {
   "cell_type": "code",
   "execution_count": 25,
   "id": "89fbc414",
   "metadata": {
    "ExecuteTime": {
     "end_time": "2021-10-04T21:54:00.926967Z",
     "start_time": "2021-10-04T21:54:00.837416Z"
    }
   },
   "outputs": [
    {
     "name": "stdout",
     "output_type": "stream",
     "text": [
      "R2: 0.5296835901684516\n",
      "Root Mean Squared Error: 2.2692652616370554\n"
     ]
    }
   ],
   "source": [
    "Lasso2=Lasso(alpha=0.001)\n",
    "Lasso2.fit(X_val_train_E,y_val_train)\n",
    "y_val_pred3 = Lasso2.predict(X_val_test_E)\n",
    "\n",
    "print(\"R2: {}\".format(Lasso2.score(X_val_test_E, y_val_test)))\n",
    "rmse3 = np.sqrt(mean_squared_error(y_val_test,y_val_pred3))\n",
    "print(\"Root Mean Squared Error: {}\".format(rmse3))"
   ]
  },
  {
   "cell_type": "markdown",
   "id": "73b5b7da",
   "metadata": {},
   "source": [
    "##### ELASTIC"
   ]
  },
  {
   "cell_type": "code",
   "execution_count": 26,
   "id": "725c9c76",
   "metadata": {
    "ExecuteTime": {
     "end_time": "2021-10-04T21:54:02.670685Z",
     "start_time": "2021-10-04T21:54:02.547137Z"
    }
   },
   "outputs": [
    {
     "name": "stdout",
     "output_type": "stream",
     "text": [
      "RMSE_elastic:  2.268833\n",
      "R2_elastic:  0.529863\n",
      "MSE_elastic:  5.147605\n"
     ]
    }
   ],
   "source": [
    "from sklearn.linear_model import ElasticNet\n",
    "\n",
    "modelo_elastic= ElasticNet(alpha=0.001, l1_ratio=0.5)\n",
    "modelo_elastic= modelo_elastic.fit(X_val_train_E,y_val_train)\n",
    "modelo_elastic.score(X_val_test_E, y_val_test)\n",
    "y_pred_elastic= modelo_elastic.predict(X_val_test_E)\n",
    "\n",
    "R2_elastic= modelo_elastic.score(X_val_test_E, y_val_test)\n",
    "RMSE_elastic=mean_squared_error(y_val_test, y_pred_elastic,squared=False)\n",
    "MSE_elastic= mean_squared_error(y_val_test, y_pred_elastic)\n",
    "\n",
    "\n",
    "print(\"RMSE_elastic: \",round(RMSE_elastic,6))\n",
    "print(\"R2_elastic: \",round(R2_elastic,6))\n",
    "print(\"MSE_elastic: \",round(MSE_elastic,6))\n"
   ]
  },
  {
   "cell_type": "markdown",
   "id": "3f2ef227",
   "metadata": {},
   "source": [
    "#### RESUMEN\n",
    "\n",
    "Tomando en cuenta estas regulaciones, podemos visualizar la evolucion del modelo aplicando las mismas:\n",
    "\n",
    "##### SIN REGULARIZAR:\n",
    "RMSE:  2.26947 |\n",
    "R2:  0.5296\n",
    "\n",
    "##### LASSO:\n",
    "RMSE: 2.26926 |\n",
    "R2: 0.52968\n",
    "    \n",
    "##### RIDGE\n",
    "RMSE: 2.26889 |\n",
    "R2: 0.52983\n",
    "\n",
    "##### ELASTIC\n",
    "RMSE: 2.26883 |\n",
    "R2: 0.52986\n",
    "\n",
    "Estas regularizaciones fuerzan que los coeficientes tiendan a cero, minimizando así el riesgo de overfitting, atenuado el efecto de correlación y reduciendo la influencia en el modelo de las variables menos relevantes.\n",
    "\n",
    "En el caso de Ridge, podemos ver cuando mostramos los coeficientes, que los mismos fueron reducidos de forma proporcional, pero sin llegar a cero, (grado de penalizacion dado por el hiperparametro alpha con valor 1) este metodo incluira todos las variables predictoras, ya que hara que tiendan a 0, sin llegar a ser exactamente 0 (no excluira ninguno)\n",
    "\n",
    "En el caso de Lasso, podemos ver cuando mostramos los coeficientes, al aplicar la penalizacion dada por el hiperparametro aplha con valor 0.001,(a diferencia de Ridge) este excluyo un predictor, asignandole el valor 0\n",
    "\n",
    "El RMSE vario muy levemente en estas pruebas\n"
   ]
  },
  {
   "cell_type": "markdown",
   "id": "c26c36b0",
   "metadata": {},
   "source": [
    "### TRANSFORMACIONES: NORMALIZACION"
   ]
  },
  {
   "cell_type": "code",
   "execution_count": 27,
   "id": "c5aa348c",
   "metadata": {
    "ExecuteTime": {
     "end_time": "2021-10-05T03:14:10.318923Z",
     "start_time": "2021-10-05T03:14:10.306363Z"
    }
   },
   "outputs": [],
   "source": [
    "from sklearn.preprocessing import MinMaxScaler"
   ]
  },
  {
   "cell_type": "code",
   "execution_count": 28,
   "id": "76876bef",
   "metadata": {
    "ExecuteTime": {
     "end_time": "2021-10-05T03:14:13.128618Z",
     "start_time": "2021-10-05T03:14:13.117058Z"
    }
   },
   "outputs": [],
   "source": [
    "t_norm=(\"Norm\",MinMaxScaler(feature_range=(0, 1), copy=False),['Length', 'Diameter', 'Height', 'Whole weight', \n",
    "                                                                         'Shucked weight','Viscera weight', \n",
    "                                                                         'Shell weight'])"
   ]
  },
  {
   "cell_type": "code",
   "execution_count": 29,
   "id": "337bf4aa",
   "metadata": {
    "ExecuteTime": {
     "end_time": "2021-10-05T03:14:15.754839Z",
     "start_time": "2021-10-05T03:14:15.748299Z"
    }
   },
   "outputs": [],
   "source": [
    "t_nominal=(\"onehot\",OneHotEncoder(sparse=False),['Sex'])"
   ]
  },
  {
   "cell_type": "code",
   "execution_count": 30,
   "id": "a2272fc8",
   "metadata": {
    "ExecuteTime": {
     "end_time": "2021-10-05T03:14:18.583619Z",
     "start_time": "2021-10-05T03:14:18.572609Z"
    }
   },
   "outputs": [],
   "source": [
    "transformador_columnas_N = ColumnTransformer(transformers=[t_norm,t_nominal],\n",
    "                                                       remainder='passthrough')"
   ]
  },
  {
   "cell_type": "code",
   "execution_count": 31,
   "id": "1634c992",
   "metadata": {
    "ExecuteTime": {
     "end_time": "2021-10-05T03:14:21.195302Z",
     "start_time": "2021-10-05T03:14:21.109300Z"
    }
   },
   "outputs": [],
   "source": [
    "transformador_columnas_N.fit(X_val_train)\n",
    "X_val_train_N=transformador_columnas_N.transform(X_val_train)\n",
    "X_val_test_N=transformador_columnas_N.transform(X_val_test)"
   ]
  },
  {
   "cell_type": "code",
   "execution_count": 32,
   "id": "f596781e",
   "metadata": {
    "ExecuteTime": {
     "end_time": "2021-10-05T03:14:23.742522Z",
     "start_time": "2021-10-05T03:14:23.719536Z"
    }
   },
   "outputs": [],
   "source": [
    "X_val_train_N= pd.DataFrame(X_val_train_N)\n",
    "X_val_test_N= pd.DataFrame(X_val_test_N)"
   ]
  },
  {
   "cell_type": "markdown",
   "id": "8ade8a52",
   "metadata": {},
   "source": [
    "#### MODELO KNN CON NORMALIZACION"
   ]
  },
  {
   "cell_type": "code",
   "execution_count": 33,
   "id": "8d0d7d87",
   "metadata": {
    "ExecuteTime": {
     "end_time": "2021-10-04T21:54:13.888160Z",
     "start_time": "2021-10-04T21:54:13.165565Z"
    }
   },
   "outputs": [
    {
     "name": "stdout",
     "output_type": "stream",
     "text": [
      "Valor de :profundidad  12\n",
      "RMSE:  2.259\n"
     ]
    }
   ],
   "source": [
    "k_valores=np.arange(1,20,1)\n",
    "\n",
    "k_max=0\n",
    "RMSE_k_m_N=100\n",
    "\n",
    "for k in k_valores:\n",
    "    modelokNN_N = neighbors.KNeighborsRegressor(n_neighbors=k,weights='uniform')\n",
    "    modelokNN_N.fit(X_val_train_N, y_val_train)\n",
    "    \n",
    "    y_val_pred_N = modelokNN_N.predict(X_val_test_N)\n",
    "    \n",
    "    RMSEkNN_N = mean_squared_error(y_val_test, y_val_pred_N, squared=False)\n",
    "    \n",
    "    if RMSEkNN_N < RMSE_k_m_N:\n",
    "        k_max = k\n",
    "        RMSE_k_m_N = RMSEkNN_N\n",
    "        \n",
    "    \n",
    "print('Valor de :profundidad ', k_max)\n",
    "print(\"RMSE: \", round(RMSE_k_m_N,3))\n"
   ]
  },
  {
   "cell_type": "code",
   "execution_count": 34,
   "id": "879e7871",
   "metadata": {
    "ExecuteTime": {
     "end_time": "2021-10-04T21:54:16.641045Z",
     "start_time": "2021-10-04T21:54:15.711920Z"
    }
   },
   "outputs": [
    {
     "name": "stdout",
     "output_type": "stream",
     "text": [
      "Valor de :profundidad  12\n",
      "RMSE:  2.259\n"
     ]
    }
   ],
   "source": [
    "k_valores=np.arange(1,20,1)\n",
    "\n",
    "k_max=0\n",
    "RMSE_k_m_D_N=100\n",
    "\n",
    "for k in k_valores:\n",
    "    modelokNN_DN = neighbors.KNeighborsRegressor(n_neighbors=k,weights='distance')\n",
    "    modelokNN_DN.fit(X_val_train_N, y_val_train)\n",
    "    \n",
    "    y_val_pred_N = modelokNN_DN.predict(X_val_test_N)\n",
    "    \n",
    "    RMSEkNN_D_N = mean_squared_error(y_val_test, y_val_pred_N, squared=False)\n",
    "    \n",
    "    if RMSEkNN_D_N < RMSE_k_m_D_N:\n",
    "        k_max = k\n",
    "        RMSE_k_m_D_N = RMSEkNN_D_N\n",
    "        \n",
    "    \n",
    "print('Valor de :profundidad ', k_max)\n",
    "print(\"RMSE: \", round(RMSE_k_m_D_N,3))"
   ]
  },
  {
   "cell_type": "markdown",
   "id": "3f664b84",
   "metadata": {},
   "source": [
    "#### MODELO REGRESION CON NORMALIZACION"
   ]
  },
  {
   "cell_type": "code",
   "execution_count": 35,
   "id": "5753e5af",
   "metadata": {
    "ExecuteTime": {
     "end_time": "2021-10-04T21:54:18.558488Z",
     "start_time": "2021-10-04T21:54:18.500494Z"
    }
   },
   "outputs": [
    {
     "name": "stdout",
     "output_type": "stream",
     "text": [
      "COEFICIENTE de la variable x:  [[  0.31108275   5.15985254   7.78606764  21.48589815 -27.62412404\n",
      "   -6.21279278   9.89006508   0.27835815  -0.53894273   0.26058458]]\n",
      "Término Independiente o INTERCEPT:  [5.12481309]\n",
      "EVALUACIÓN del modelo de Regresión Lineal: \n",
      "Coeficiente de Determinación R2:  0.5296\n",
      "MSE:  5.150492\n",
      "RMSE:  2.26947\n"
     ]
    }
   ],
   "source": [
    "modelo = linear_model.LinearRegression(fit_intercept=True)            \n",
    "modelo.fit(X_val_train_N, y_val_train)\n",
    "\n",
    "print('COEFICIENTE de la variable x: ',modelo.coef_)\n",
    "print('Término Independiente o INTERCEPT: ',modelo.intercept_)\n",
    "print(\"EVALUACIÓN del modelo de Regresión Lineal: \")\n",
    "print(\"Coeficiente de Determinación R2: \",round(modelo.score(X_val_test_N,y_val_test),5))\n",
    "\n",
    "y_val_pred_N = modelo.predict(X_val_test_N)                                       \n",
    "print(\"MSE: \",round(mean_squared_error(y_val_test, y_val_pred_N),6))            \n",
    "print(\"RMSE: \",round(mean_squared_error(y_val_test, y_val_pred_N, squared=False),6)) "
   ]
  },
  {
   "cell_type": "markdown",
   "id": "deb92a5e",
   "metadata": {},
   "source": [
    "#### SVM con kernel lineal  y Normalizacion"
   ]
  },
  {
   "cell_type": "code",
   "execution_count": 36,
   "id": "21108c37",
   "metadata": {
    "ExecuteTime": {
     "end_time": "2021-10-04T21:54:20.380949Z",
     "start_time": "2021-10-04T21:54:20.370593Z"
    }
   },
   "outputs": [],
   "source": [
    "from sklearn.svm import SVR"
   ]
  },
  {
   "cell_type": "code",
   "execution_count": 37,
   "id": "b1e926cc",
   "metadata": {
    "ExecuteTime": {
     "end_time": "2021-10-04T21:58:00.885842Z",
     "start_time": "2021-10-04T21:54:22.152700Z"
    }
   },
   "outputs": [
    {
     "name": "stdout",
     "output_type": "stream",
     "text": [
      "--------------------------------\n",
      "Kernel:linear\n",
      "C:  1\n",
      "RMSE:  2.423548848894161\n",
      "score:  0.4635575248480499\n",
      "--------------------------------\n",
      "Kernel:linear\n",
      "C:  10\n",
      "RMSE:  2.326797769783755\n",
      "score:  0.5055334928118118\n",
      "--------------------------------\n",
      "Kernel:linear\n",
      "C:  100\n",
      "RMSE:  2.302200938502826\n",
      "score:  0.5159323550285285\n",
      "--------------------------------\n",
      "Kernel:linear\n",
      "C:  1000\n",
      "RMSE:  2.298936216755412\n",
      "score:  0.5173042818720877\n",
      "--------------------------------\n",
      "Kernel:linear\n",
      "C:  10000\n",
      "RMSE:  2.299380106796589\n",
      "score:  0.517117861295304\n",
      "--------------------------------\n",
      "Kernel:linear\n",
      "C:  100000\n",
      "RMSE:  2.300367927883725\n",
      "score:  0.5167028767362751\n",
      "___________________________________\n",
      "MEJOR C:  1000\n",
      "MEJOR RMSE:  2.298936216755412\n",
      "MEJOR score:  0.5173042818720877\n"
     ]
    }
   ],
   "source": [
    "RMSE_SVM_max=100\n",
    "c_iter=[1,10,100,1000,10000,100000]\n",
    "\n",
    "for c in c_iter:       \n",
    "    svr_lin=SVR(C=c, kernel='linear')\n",
    "    svr_lin.fit(X_val_train_N, y_val_train)\n",
    "    pred = svr_lin.predict(X_val_test_N)\n",
    "    RMSE = mean_squared_error(pred, y_val_test,squared=False) \n",
    "    score = svr_lin.score(X_val_test_N, y_val_test)\n",
    "        \n",
    "    print(\"--------------------------------\")\n",
    "    print(\"Kernel:linear\")\n",
    "    print(\"C: \",c)\n",
    "    print(\"RMSE: \",RMSE)\n",
    "    print(\"score: \",score)\n",
    "        \n",
    "    if RMSE < RMSE_SVM_max:\n",
    "        RMSE_SVM_max= RMSE\n",
    "        c_max= c\n",
    "        score_max=score\n",
    "    \n",
    "print(\"___________________________________\")\n",
    "\n",
    "print(\"MEJOR C: \",c_max)\n",
    "print(\"MEJOR RMSE: \",RMSE_SVM_max)\n",
    "print(\"MEJOR score: \",score_max)"
   ]
  },
  {
   "cell_type": "markdown",
   "id": "e4d1a03f",
   "metadata": {},
   "source": [
    "#### SVM con kernel rbf y Normalizacion"
   ]
  },
  {
   "cell_type": "code",
   "execution_count": 38,
   "id": "595c33e6",
   "metadata": {
    "ExecuteTime": {
     "end_time": "2021-10-04T21:58:29.335081Z",
     "start_time": "2021-10-04T21:58:02.520384Z"
    }
   },
   "outputs": [
    {
     "name": "stdout",
     "output_type": "stream",
     "text": [
      "--------------------------------\n",
      "Kernel: rbf\n",
      "C:  0.01\n",
      "RMSE:  2.9410816257833132\n",
      "score:  0.20998787280885733\n",
      "--------------------------------\n",
      "Kernel: rbf\n",
      "C:  0.1\n",
      "RMSE:  2.6817787185309228\n",
      "score:  0.3431510918833902\n",
      "--------------------------------\n",
      "Kernel: rbf\n",
      "C:  0.1\n",
      "RMSE:  2.6817787185309228\n",
      "score:  0.3431510918833902\n",
      "--------------------------------\n",
      "Kernel: rbf\n",
      "C:  1\n",
      "RMSE:  2.3898737596970605\n",
      "score:  0.47836163645060636\n",
      "--------------------------------\n",
      "Kernel: rbf\n",
      "C:  10\n",
      "RMSE:  2.217389330037681\n",
      "score:  0.5509408924085615\n",
      "--------------------------------\n",
      "Kernel: rbf\n",
      "C:  100\n",
      "RMSE:  2.1727289580993374\n",
      "score:  0.5688476997011425\n",
      "--------------------------------\n",
      "Kernel: rbf\n",
      "C:  1000\n",
      "RMSE:  2.1645189783867442\n",
      "score:  0.5720998898891051\n",
      "--------------------------------\n",
      "Kernel: rbf\n",
      "C:  10000\n",
      "RMSE:  2.21079018820932\n",
      "score:  0.5536097922956711\n",
      "___________________________________\n",
      "MEJOR C:  1000\n",
      "MEJOR RMSE:  2.1645189783867442\n",
      "MEJOR score:  0.5720998898891051\n"
     ]
    }
   ],
   "source": [
    "RMSE_SVM_max=100\n",
    "c_iter=[0.01,0.1,0.10,1,10,100,1000,10000]\n",
    "\n",
    "for c in c_iter:       \n",
    "    svr_lin=SVR(C=c, kernel='rbf')\n",
    "    svr_lin.fit(X_val_train_N, y_val_train)\n",
    "    pred = svr_lin.predict(X_val_test_N)\n",
    "    RMSE = mean_squared_error(pred, y_val_test,squared=False) \n",
    "    score = svr_lin.score(X_val_test_N, y_val_test)\n",
    "        \n",
    "    print(\"--------------------------------\")\n",
    "    print(\"Kernel: rbf\")\n",
    "    print(\"C: \",c)\n",
    "    print(\"RMSE: \",RMSE)\n",
    "    print(\"score: \",score)\n",
    "        \n",
    "    if RMSE < RMSE_SVM_max:\n",
    "        RMSE_SVM_max= RMSE\n",
    "        c_max= c\n",
    "        score_max=score\n",
    "    \n",
    "print(\"___________________________________\")\n",
    "\n",
    "print(\"MEJOR C: \",c_max)\n",
    "print(\"MEJOR RMSE: \",RMSE_SVM_max)\n",
    "print(\"MEJOR score: \",score_max)"
   ]
  },
  {
   "cell_type": "markdown",
   "id": "2e008ead",
   "metadata": {},
   "source": [
    "#### SVM con kernel sigmoid con Normalizacion"
   ]
  },
  {
   "cell_type": "code",
   "execution_count": 39,
   "id": "ebbdc262",
   "metadata": {
    "ExecuteTime": {
     "end_time": "2021-10-04T21:58:46.210950Z",
     "start_time": "2021-10-04T21:58:31.409811Z"
    }
   },
   "outputs": [
    {
     "name": "stdout",
     "output_type": "stream",
     "text": [
      "--------------------------------\n",
      "Kernel: sigmoid\n",
      "C:  0.01\n",
      "RMSE:  3.0061249556764396\n",
      "score:  0.1746585434582868\n",
      "--------------------------------\n",
      "Kernel: sigmoid\n",
      "C:  0.1\n",
      "RMSE:  4.8028211363853694\n",
      "score:  -1.1067472156187348\n",
      "--------------------------------\n",
      "Kernel: sigmoid\n",
      "C:  1\n",
      "RMSE:  42.7200400013927\n",
      "score:  -165.67977422750764\n",
      "--------------------------------\n",
      "Kernel: sigmoid\n",
      "C:  10\n",
      "RMSE:  426.0119666366737\n",
      "score:  -16574.368766157506\n",
      "--------------------------------\n",
      "Kernel: sigmoid\n",
      "C:  100\n",
      "RMSE:  4260.362077789494\n",
      "score:  -1657724.5179384728\n",
      "--------------------------------\n",
      "Kernel: sigmoid\n",
      "C:  1000\n",
      "RMSE:  42604.462671548856\n",
      "score:  -165779102.54863977\n",
      "--------------------------------\n",
      "Kernel: sigmoid\n",
      "C:  10000\n",
      "RMSE:  426043.61505986535\n",
      "score:  -16577831624.476171\n",
      "___________________________________\n",
      "MEJOR C:  0.01\n",
      "MEJOR RMSE:  3.0061249556764396\n",
      "MEJOR score:  0.1746585434582868\n"
     ]
    }
   ],
   "source": [
    "RMSE_SVM_max=100\n",
    "c_iter=[0.01,0.1,1,10,100,1000,10000]\n",
    "\n",
    "for c in c_iter:       \n",
    "    svr_lin=SVR(C=c, kernel='sigmoid')\n",
    "    svr_lin.fit(X_val_train_N, y_val_train)\n",
    "    pred = svr_lin.predict(X_val_test_N)\n",
    "    RMSE = mean_squared_error(pred, y_val_test,squared=False) \n",
    "    score = svr_lin.score(X_val_test_N, y_val_test)\n",
    "        \n",
    "    print(\"--------------------------------\")\n",
    "    print(\"Kernel: sigmoid\")\n",
    "    print(\"C: \",c)\n",
    "    print(\"RMSE: \",RMSE)\n",
    "    print(\"score: \",score)\n",
    "        \n",
    "    if RMSE < RMSE_SVM_max:\n",
    "        RMSE_SVM_max= RMSE\n",
    "        c_max= c\n",
    "        score_max=score\n",
    "    \n",
    "print(\"___________________________________\")\n",
    "\n",
    "print(\"MEJOR C: \",c_max)\n",
    "print(\"MEJOR RMSE: \",RMSE_SVM_max)\n",
    "print(\"MEJOR score: \",score_max)"
   ]
  },
  {
   "cell_type": "markdown",
   "id": "4eb6c816",
   "metadata": {},
   "source": [
    "#### SVM con kernel poly Y Normalizacion"
   ]
  },
  {
   "cell_type": "code",
   "execution_count": 40,
   "id": "a8366501",
   "metadata": {
    "ExecuteTime": {
     "end_time": "2021-10-05T00:27:43.754524Z",
     "start_time": "2021-10-04T22:04:19.366776Z"
    },
    "scrolled": true
   },
   "outputs": [
    {
     "name": "stdout",
     "output_type": "stream",
     "text": [
      "--------------------------------\n",
      "Kernel poli grado 2\n",
      "C:  0.1\n",
      "RMSE:  2.5379010935439372\n",
      "score:  0.4117404479365995\n",
      "--------------------------------\n",
      "Kernel poli grado 3\n",
      "C:  0.1\n",
      "RMSE:  2.4792795275561934\n",
      "score:  0.43860234955011634\n",
      "--------------------------------\n",
      "Kernel poli grado 4\n",
      "C:  0.1\n",
      "RMSE:  2.414298887309933\n",
      "score:  0.46764459156111216\n",
      "--------------------------------\n",
      "Kernel poli grado 5\n",
      "C:  0.1\n",
      "RMSE:  2.35935974490151\n",
      "score:  0.4915972012194443\n",
      "--------------------------------\n",
      "Kernel poli grado 2\n",
      "C:  1\n",
      "RMSE:  2.3645889509082134\n",
      "score:  0.48934108989279523\n",
      "--------------------------------\n",
      "Kernel poli grado 3\n",
      "C:  1\n",
      "RMSE:  2.2963070083467936\n",
      "score:  0.5184077330386778\n",
      "--------------------------------\n",
      "Kernel poli grado 4\n",
      "C:  1\n",
      "RMSE:  2.2657686649861333\n",
      "score:  0.5311318473135243\n",
      "--------------------------------\n",
      "Kernel poli grado 5\n",
      "C:  1\n",
      "RMSE:  2.2454864531193524\n",
      "score:  0.5394884990817463\n",
      "--------------------------------\n",
      "Kernel poli grado 2\n",
      "C:  10\n",
      "RMSE:  2.2244948368923185\n",
      "score:  0.548058308924585\n",
      "--------------------------------\n",
      "Kernel poli grado 3\n",
      "C:  10\n",
      "RMSE:  2.201029135164378\n",
      "score:  0.5575428832846008\n",
      "--------------------------------\n",
      "Kernel poli grado 4\n",
      "C:  10\n",
      "RMSE:  2.1990133487852708\n",
      "score:  0.5583529503549611\n",
      "--------------------------------\n",
      "Kernel poli grado 5\n",
      "C:  10\n",
      "RMSE:  2.1860853627092904\n",
      "score:  0.5635305665248171\n",
      "--------------------------------\n",
      "Kernel poli grado 2\n",
      "C:  100\n",
      "RMSE:  2.15265906870371\n",
      "score:  0.5767761745896719\n",
      "--------------------------------\n",
      "Kernel poli grado 3\n",
      "C:  100\n",
      "RMSE:  2.163374783857954\n",
      "score:  0.5725521580972754\n",
      "--------------------------------\n",
      "Kernel poli grado 4\n",
      "C:  100\n",
      "RMSE:  2.157487036420651\n",
      "score:  0.5748756392404707\n",
      "--------------------------------\n",
      "Kernel poli grado 5\n",
      "C:  100\n",
      "RMSE:  2.1963521772712578\n",
      "score:  0.5594212361797415\n",
      "--------------------------------\n",
      "Kernel poli grado 2\n",
      "C:  1000\n",
      "RMSE:  2.1371219288834857\n",
      "score:  0.5828634898913999\n",
      "--------------------------------\n",
      "Kernel poli grado 3\n",
      "C:  1000\n",
      "RMSE:  2.1479690265742306\n",
      "score:  0.5786183383472829\n",
      "--------------------------------\n",
      "Kernel poli grado 4\n",
      "C:  1000\n",
      "RMSE:  2.183255458265599\n",
      "score:  0.5646598612393718\n",
      "--------------------------------\n",
      "Kernel poli grado 5\n",
      "C:  1000\n",
      "RMSE:  2.6067136409151006\n",
      "score:  0.3794078877488556\n",
      "--------------------------------\n",
      "Kernel poli grado 2\n",
      "C:  10000\n",
      "RMSE:  2.1437522793471135\n",
      "score:  0.5802711702325183\n",
      "--------------------------------\n",
      "Kernel poli grado 3\n",
      "C:  10000\n",
      "RMSE:  2.1779881223654645\n",
      "score:  0.5667579360020331\n",
      "--------------------------------\n",
      "Kernel poli grado 4\n",
      "C:  10000\n",
      "RMSE:  2.4860092570976087\n",
      "score:  0.435550509799409\n",
      "--------------------------------\n",
      "Kernel poli grado 5\n",
      "C:  10000\n",
      "RMSE:  3.175266974861984\n",
      "score:  0.07916865328493838\n",
      "__________________________________\n",
      "MEJOR Kernel poli grado 2\n",
      "MEJOR C:  1000\n",
      "MEJOR RMSE:  2.1371219288834857\n",
      "MEJOR score:  0.5828634898913999\n"
     ]
    }
   ],
   "source": [
    "RMSE_SVM_max=100\n",
    "c_iter=[0.1,1,10,100,1000,10000]\n",
    "grad=np.arange(2,6,1)\n",
    "\n",
    "for c in c_iter:\n",
    "    for g in grad:\n",
    "    \n",
    "        svr_lin=SVR(C=c, kernel=\"poly\", degree=g)\n",
    "        svr_lin.fit(X_val_train_N, y_val_train)\n",
    "        pred = svr_lin.predict(X_val_test_N)\n",
    "        RMSE = mean_squared_error(pred, y_val_test,squared=False) \n",
    "        score = svr_lin.score(X_val_test_N, y_val_test)\n",
    "        \n",
    "        print(\"--------------------------------\")\n",
    "        print(\"Kernel poli grado\",g)\n",
    "        print(\"C: \",c)\n",
    "        print(\"RMSE: \",RMSE)\n",
    "        print(\"score: \",score)\n",
    "        \n",
    "        if RMSE < RMSE_SVM_max:\n",
    "            RMSE_SVM_max= RMSE\n",
    "            c_max= c\n",
    "            g_max=g\n",
    "            score_max=score\n",
    "    \n",
    "print(\"__________________________________\")\n",
    "print(\"MEJOR Kernel poli grado\",g_max)\n",
    "print(\"MEJOR C: \",c_max)                                                                                        \n",
    "print(\"MEJOR RMSE: \",RMSE_SVM_max)\n",
    "print(\"MEJOR score: \",score_max)"
   ]
  },
  {
   "cell_type": "markdown",
   "id": "d537a170",
   "metadata": {},
   "source": [
    "*** Despues de 2 horas y 20 minutos esperando con ansiedad y emocion la mejora mi modelo con normalizacion... \n",
    "la metrica RMSE no mejoro jajajajjaj *** \n",
    "\n",
    "asi que ahora a decidir entre dos caminos si lo elijo igual aunque no haya mejorado (de hecho paso de 2.131 a 2.137)\n",
    "o me quedo con el sin norm. \n",
    "\n",
    "A continuacion el resumen de los resultados obtenidos de todos los modelos evaluados, proximo punto la eleccion del modelo"
   ]
  },
  {
   "cell_type": "markdown",
   "id": "ade93361",
   "metadata": {
    "ExecuteTime": {
     "end_time": "2021-10-05T04:37:30.273108Z",
     "start_time": "2021-10-05T04:37:30.263124Z"
    }
   },
   "source": [
    "### RESULTADOS DE LOS MODELOS"
   ]
  },
  {
   "cell_type": "markdown",
   "id": "02abd110",
   "metadata": {
    "ExecuteTime": {
     "end_time": "2021-10-05T01:09:54.965899Z",
     "start_time": "2021-10-05T01:09:54.941910Z"
    }
   },
   "source": [
    "##### SIN NORMALIZAR\n",
    "Arbol:\n",
    "- Valor de :profundidad  6\n",
    "- RMSE:  2.277\n",
    "- MSE:  5.185\n",
    "- R2:  0.526\n",
    "    \n",
    "KNN uniform:\n",
    "- Valor de :profundidad  14\n",
    "- RMSE:  2.214\n",
    "- R2:  0.541\n",
    "\n",
    "knn Distance:\n",
    "- Valor de :profundidad  14\n",
    "- RMSE:  2.211\n",
    "- R2:  0.546\n",
    "\n",
    "Regresion\n",
    "- Coeficiente de Determinación R2:  0.53\n",
    "- MSE:  5.15\n",
    "- RMSE:  2.269\n",
    "    \n",
    "Kernel poli grado 2\n",
    "- C:  1000\n",
    "- RMSE:  2.1318772916641073\n",
    "- score:  0.58490833835885\n",
    "\n",
    "SVM con kernel lineal\n",
    "- MEJOR C:  100000\n",
    "- MEJOR RMSE:  2.2966582495318413\n",
    "- MEJOR score:  0.5182603938764069\n",
    "    \n",
    "SVM con kernel rbf\n",
    "- MEJOR C:  100\n",
    "- MEJOR RMSE:  2.1568627660008666\n",
    "- MEJOR score:  0.5751216237241856\n",
    "    \n",
    "SVM con kernel sigmoid\n",
    "- MEJOR C:  0.01\n",
    "- MEJOR RMSE:  3.01769962777162\n",
    "- MEJOR score:  0.1682905792286542\n",
    "    \n",
    "SVM con kernel poly\n",
    "- MEJOR Kernel poli grado 2\n",
    "- MEJOR C:  1000\n",
    "- MEJOR RMSE:  2.1318772916641073\n",
    "- MEJOR score:  0.58490833835885\n",
    "    \n",
    "##### CON ESTANDARIZACION:\n",
    "\n",
    "KNN uniform\n",
    "- Valor de :profundidad  19\n",
    "- RMSE:  2.304\n",
    "    \n",
    "KNN distance\n",
    "- Valor de :profundidad  12\n",
    "- RMSE:  2.259\n",
    "\n",
    "REGRESION:\n",
    "- Coeficiente de Determinación R2:  0.5296\n",
    "- MSE:  5.150492\n",
    "- RMSE:  2.26947\n",
    "\n",
    "LASSO: (0.001)\n",
    "- RMSE: 2.26926 | R2: 0.52968\n",
    "\n",
    "RIDGE: (1)\n",
    "- RMSE: 2.26889 | R2: 0.52983\n",
    "\n",
    "ELASTIC: (0.001 y  r:0.5)\n",
    "- RMSE: 2.26883 | R2: 0.52986\n",
    "\n",
    "##### CON NORMALIZACION:\n",
    "\n",
    "KNN uniform:\n",
    "- Valor de :profundidad  12\n",
    "- RMSE:  2.259\n",
    "\n",
    "KNN distance:\n",
    "- Valor de :profundidad  12\n",
    "- RMSE:  2.259\n",
    "\n",
    "Regresion:\n",
    "- Coeficiente de Determinación R2:  0.52937\n",
    "- MSE:  5.152961\n",
    "- RMSE:  2.270013\n",
    "    \n",
    "SVM con kernel lineal y Normalizacion\n",
    "- MEJOR C:  1000\n",
    "- MEJOR RMSE:  2.298936216755412\n",
    "- MEJOR score:  0.5173042818720877\n",
    "    \n",
    "SVM con kernel rbf y Normalizacion\n",
    "- MEJOR C:  1000\n",
    "- MEJOR RMSE:  2.1645189783867442\n",
    "- MEJOR score:  0.5720998898891051\n",
    "    \n",
    "SVM con kernel sigmoid con Normalizacion\n",
    "- MEJOR C:  0.01\n",
    "- MEJOR RMSE:  3.0061249556764396\n",
    "- MEJOR score:  0.1746585434582868\n",
    "    \n",
    "SVM con kernel poly Y Normalizacion\n",
    "- MEJOR Kernel poli grado 2\n",
    "- MEJOR C:  1000\n",
    "- MEJOR RMSE:  2.1371219288834857\n",
    "- MEJOR score:  0.5828634898913999"
   ]
  },
  {
   "cell_type": "markdown",
   "id": "755f905b",
   "metadata": {},
   "source": [
    "### ELECCION DEL MODELO"
   ]
  },
  {
   "cell_type": "markdown",
   "id": "66f20f28",
   "metadata": {},
   "source": [
    "De acuerdo con los resultados obtenidos en la metrica RMSE y la decepcion del punto anterior, sigo apostando al modelo SVM Poly con C= 1000 y grado 2 Normalizado.\n",
    "La razon que me llevo a dicha eleccion, es que de lo contrario estaria dando mas peso a algunas variables que otras, y no cuento con un experto con el cual pueda consultar la ponderacion de las mismas para saber si es correcto o poder personalizarlas, en mi caso estaria siendo arbitrario. Ademas de tener en cuenta que el modelo SVM es sensible a problemas de escala.\n",
    "\n",
    "EL RMSE esperado ~ 2.137"
   ]
  },
  {
   "cell_type": "markdown",
   "id": "6fc60e23",
   "metadata": {},
   "source": [
    "Normalizacion"
   ]
  },
  {
   "cell_type": "code",
   "execution_count": 41,
   "id": "53a4d16e",
   "metadata": {
    "ExecuteTime": {
     "end_time": "2021-10-05T02:17:42.419082Z",
     "start_time": "2021-10-05T02:17:42.369069Z"
    }
   },
   "outputs": [],
   "source": [
    "X_train_N=transformador_columnas_N.transform(X_train)\n",
    "X_test_N=transformador_columnas_N.transform(X_test)\n",
    "\n",
    "X_train_N= pd.DataFrame(X_train_N)\n",
    "X_test_N= pd.DataFrame(X_test_N)"
   ]
  },
  {
   "cell_type": "markdown",
   "id": "dc05e74a",
   "metadata": {},
   "source": [
    "SVM Poly con C= 1000 y grado 2"
   ]
  },
  {
   "cell_type": "code",
   "execution_count": 42,
   "id": "7b2184e5",
   "metadata": {
    "ExecuteTime": {
     "end_time": "2021-10-05T02:26:41.702384Z",
     "start_time": "2021-10-05T02:26:29.857200Z"
    },
    "scrolled": true
   },
   "outputs": [
    {
     "name": "stdout",
     "output_type": "stream",
     "text": [
      "--------------------------------\n",
      "Kernel poli grado 2\n",
      "C: 1000\n",
      "RMSE:  2.3131817180104637\n",
      "score:  0.5117843839582461\n"
     ]
    }
   ],
   "source": [
    "svr_polyP=SVR(C=1000, kernel=\"poly\", degree=2)\n",
    "svr_polyP.fit(X_train_N, y_train)\n",
    "predP = svr_polyP.predict(X_test_N)\n",
    "RMSEP = mean_squared_error(predP, y_test,squared=False) \n",
    "score = svr_polyP.score(X_test_N, y_test)\n",
    "\n",
    "print(\"--------------------------------\")\n",
    "print(\"Kernel poli grado 2\")\n",
    "print(\"C: 1000\")\n",
    "print(\"RMSE: \",RMSEP)\n",
    "print(\"score: \",score)"
   ]
  },
  {
   "cell_type": "markdown",
   "id": "5d69f3f3",
   "metadata": {},
   "source": [
    "### MODELO PRODUCCION"
   ]
  },
  {
   "cell_type": "code",
   "execution_count": 43,
   "id": "e8b8b8a5",
   "metadata": {
    "ExecuteTime": {
     "end_time": "2021-10-05T03:09:56.663916Z",
     "start_time": "2021-10-05T03:09:56.634088Z"
    }
   },
   "outputs": [],
   "source": [
    "X= transformador_columnas_N.transform (X)\n",
    "X= pd.DataFrame(X)"
   ]
  },
  {
   "cell_type": "code",
   "execution_count": 44,
   "id": "fed26ade",
   "metadata": {
    "ExecuteTime": {
     "end_time": "2021-10-05T04:24:46.679518Z",
     "start_time": "2021-10-05T04:24:38.416589Z"
    }
   },
   "outputs": [
    {
     "data": {
      "text/plain": [
       "SVR(C=1000, degree=2, kernel='poly')"
      ]
     },
     "execution_count": 44,
     "metadata": {},
     "output_type": "execute_result"
    }
   ],
   "source": [
    "svr_poly_Prod=SVR(C=1000, kernel=\"poly\", degree=2)\n",
    "svr_poly_Prod.fit(X,y)"
   ]
  },
  {
   "cell_type": "markdown",
   "id": "a5b8d280",
   "metadata": {},
   "source": [
    "#### NUEVOS DATOS"
   ]
  },
  {
   "cell_type": "code",
   "execution_count": 45,
   "id": "93d07c6e",
   "metadata": {
    "ExecuteTime": {
     "end_time": "2021-10-05T03:16:19.788437Z",
     "start_time": "2021-10-05T03:16:19.766895Z"
    }
   },
   "outputs": [],
   "source": [
    "df_nuevos= pd.read_csv(\"abalone_500_X.csv\", sep=',')"
   ]
  },
  {
   "cell_type": "code",
   "execution_count": 46,
   "id": "d03847c5",
   "metadata": {
    "ExecuteTime": {
     "end_time": "2021-10-05T03:16:24.315434Z",
     "start_time": "2021-10-05T03:16:24.285430Z"
    }
   },
   "outputs": [
    {
     "data": {
      "text/plain": [
       "ColumnTransformer(remainder='passthrough',\n",
       "                  transformers=[('Norm', MinMaxScaler(copy=False),\n",
       "                                 ['Length', 'Diameter', 'Height',\n",
       "                                  'Whole weight', 'Shucked weight',\n",
       "                                  'Viscera weight', 'Shell weight']),\n",
       "                                ('onehot', OneHotEncoder(sparse=False),\n",
       "                                 ['Sex'])])"
      ]
     },
     "execution_count": 46,
     "metadata": {},
     "output_type": "execute_result"
    }
   ],
   "source": [
    "transformador_columnas_N"
   ]
  },
  {
   "cell_type": "code",
   "execution_count": 47,
   "id": "cf346415",
   "metadata": {
    "ExecuteTime": {
     "end_time": "2021-10-05T03:16:26.730441Z",
     "start_time": "2021-10-05T03:16:26.704450Z"
    }
   },
   "outputs": [],
   "source": [
    "df_nuevos= transformador_columnas_N.transform(df_nuevos)\n",
    "df_nuevos= pd.DataFrame(df_nuevos)"
   ]
  },
  {
   "cell_type": "code",
   "execution_count": 48,
   "id": "bae59f3e",
   "metadata": {
    "ExecuteTime": {
     "end_time": "2021-10-05T03:16:36.292965Z",
     "start_time": "2021-10-05T03:16:36.224965Z"
    }
   },
   "outputs": [
    {
     "data": {
      "text/html": [
       "<div>\n",
       "<style scoped>\n",
       "    .dataframe tbody tr th:only-of-type {\n",
       "        vertical-align: middle;\n",
       "    }\n",
       "\n",
       "    .dataframe tbody tr th {\n",
       "        vertical-align: top;\n",
       "    }\n",
       "\n",
       "    .dataframe thead th {\n",
       "        text-align: right;\n",
       "    }\n",
       "</style>\n",
       "<table border=\"1\" class=\"dataframe\">\n",
       "  <thead>\n",
       "    <tr style=\"text-align: right;\">\n",
       "      <th></th>\n",
       "      <th>0</th>\n",
       "      <th>1</th>\n",
       "      <th>2</th>\n",
       "      <th>3</th>\n",
       "      <th>4</th>\n",
       "      <th>5</th>\n",
       "      <th>6</th>\n",
       "      <th>7</th>\n",
       "      <th>8</th>\n",
       "      <th>9</th>\n",
       "    </tr>\n",
       "  </thead>\n",
       "  <tbody>\n",
       "    <tr>\n",
       "      <th>0</th>\n",
       "      <td>0.693431</td>\n",
       "      <td>0.645455</td>\n",
       "      <td>0.141593</td>\n",
       "      <td>0.387733</td>\n",
       "      <td>0.280755</td>\n",
       "      <td>0.396313</td>\n",
       "      <td>0.359462</td>\n",
       "      <td>0.0</td>\n",
       "      <td>0.0</td>\n",
       "      <td>1.0</td>\n",
       "    </tr>\n",
       "    <tr>\n",
       "      <th>1</th>\n",
       "      <td>0.671533</td>\n",
       "      <td>0.618182</td>\n",
       "      <td>0.132743</td>\n",
       "      <td>0.305600</td>\n",
       "      <td>0.257836</td>\n",
       "      <td>0.282423</td>\n",
       "      <td>0.269877</td>\n",
       "      <td>0.0</td>\n",
       "      <td>0.0</td>\n",
       "      <td>1.0</td>\n",
       "    </tr>\n",
       "    <tr>\n",
       "      <th>2</th>\n",
       "      <td>0.627737</td>\n",
       "      <td>0.627273</td>\n",
       "      <td>0.172566</td>\n",
       "      <td>0.344178</td>\n",
       "      <td>0.202562</td>\n",
       "      <td>0.294931</td>\n",
       "      <td>0.370661</td>\n",
       "      <td>1.0</td>\n",
       "      <td>0.0</td>\n",
       "      <td>0.0</td>\n",
       "    </tr>\n",
       "    <tr>\n",
       "      <th>3</th>\n",
       "      <td>0.737226</td>\n",
       "      <td>0.709091</td>\n",
       "      <td>0.150442</td>\n",
       "      <td>0.443911</td>\n",
       "      <td>0.359960</td>\n",
       "      <td>0.350230</td>\n",
       "      <td>0.421053</td>\n",
       "      <td>1.0</td>\n",
       "      <td>0.0</td>\n",
       "      <td>0.0</td>\n",
       "    </tr>\n",
       "    <tr>\n",
       "      <th>4</th>\n",
       "      <td>0.503650</td>\n",
       "      <td>0.518182</td>\n",
       "      <td>0.128319</td>\n",
       "      <td>0.214933</td>\n",
       "      <td>0.155376</td>\n",
       "      <td>0.141540</td>\n",
       "      <td>0.236282</td>\n",
       "      <td>0.0</td>\n",
       "      <td>0.0</td>\n",
       "      <td>1.0</td>\n",
       "    </tr>\n",
       "    <tr>\n",
       "      <th>...</th>\n",
       "      <td>...</td>\n",
       "      <td>...</td>\n",
       "      <td>...</td>\n",
       "      <td>...</td>\n",
       "      <td>...</td>\n",
       "      <td>...</td>\n",
       "      <td>...</td>\n",
       "      <td>...</td>\n",
       "      <td>...</td>\n",
       "      <td>...</td>\n",
       "    </tr>\n",
       "    <tr>\n",
       "      <th>495</th>\n",
       "      <td>0.613139</td>\n",
       "      <td>0.654545</td>\n",
       "      <td>0.115044</td>\n",
       "      <td>0.247289</td>\n",
       "      <td>0.202562</td>\n",
       "      <td>0.190915</td>\n",
       "      <td>0.225084</td>\n",
       "      <td>0.0</td>\n",
       "      <td>0.0</td>\n",
       "      <td>1.0</td>\n",
       "    </tr>\n",
       "    <tr>\n",
       "      <th>496</th>\n",
       "      <td>0.693431</td>\n",
       "      <td>0.718182</td>\n",
       "      <td>0.150442</td>\n",
       "      <td>0.435733</td>\n",
       "      <td>0.352882</td>\n",
       "      <td>0.323897</td>\n",
       "      <td>0.432251</td>\n",
       "      <td>1.0</td>\n",
       "      <td>0.0</td>\n",
       "      <td>0.0</td>\n",
       "    </tr>\n",
       "    <tr>\n",
       "      <th>497</th>\n",
       "      <td>0.686131</td>\n",
       "      <td>0.700000</td>\n",
       "      <td>0.146018</td>\n",
       "      <td>0.400889</td>\n",
       "      <td>0.392653</td>\n",
       "      <td>0.285714</td>\n",
       "      <td>0.318029</td>\n",
       "      <td>1.0</td>\n",
       "      <td>0.0</td>\n",
       "      <td>0.0</td>\n",
       "    </tr>\n",
       "    <tr>\n",
       "      <th>498</th>\n",
       "      <td>0.291971</td>\n",
       "      <td>0.290909</td>\n",
       "      <td>0.070796</td>\n",
       "      <td>0.066489</td>\n",
       "      <td>0.039097</td>\n",
       "      <td>0.065174</td>\n",
       "      <td>0.073908</td>\n",
       "      <td>1.0</td>\n",
       "      <td>0.0</td>\n",
       "      <td>0.0</td>\n",
       "    </tr>\n",
       "    <tr>\n",
       "      <th>499</th>\n",
       "      <td>0.744526</td>\n",
       "      <td>0.754545</td>\n",
       "      <td>0.146018</td>\n",
       "      <td>0.482133</td>\n",
       "      <td>0.422986</td>\n",
       "      <td>0.448980</td>\n",
       "      <td>0.396417</td>\n",
       "      <td>0.0</td>\n",
       "      <td>0.0</td>\n",
       "      <td>1.0</td>\n",
       "    </tr>\n",
       "  </tbody>\n",
       "</table>\n",
       "<p>500 rows × 10 columns</p>\n",
       "</div>"
      ],
      "text/plain": [
       "            0         1         2         3         4         5         6  \\\n",
       "0    0.693431  0.645455  0.141593  0.387733  0.280755  0.396313  0.359462   \n",
       "1    0.671533  0.618182  0.132743  0.305600  0.257836  0.282423  0.269877   \n",
       "2    0.627737  0.627273  0.172566  0.344178  0.202562  0.294931  0.370661   \n",
       "3    0.737226  0.709091  0.150442  0.443911  0.359960  0.350230  0.421053   \n",
       "4    0.503650  0.518182  0.128319  0.214933  0.155376  0.141540  0.236282   \n",
       "..        ...       ...       ...       ...       ...       ...       ...   \n",
       "495  0.613139  0.654545  0.115044  0.247289  0.202562  0.190915  0.225084   \n",
       "496  0.693431  0.718182  0.150442  0.435733  0.352882  0.323897  0.432251   \n",
       "497  0.686131  0.700000  0.146018  0.400889  0.392653  0.285714  0.318029   \n",
       "498  0.291971  0.290909  0.070796  0.066489  0.039097  0.065174  0.073908   \n",
       "499  0.744526  0.754545  0.146018  0.482133  0.422986  0.448980  0.396417   \n",
       "\n",
       "       7    8    9  \n",
       "0    0.0  0.0  1.0  \n",
       "1    0.0  0.0  1.0  \n",
       "2    1.0  0.0  0.0  \n",
       "3    1.0  0.0  0.0  \n",
       "4    0.0  0.0  1.0  \n",
       "..   ...  ...  ...  \n",
       "495  0.0  0.0  1.0  \n",
       "496  1.0  0.0  0.0  \n",
       "497  1.0  0.0  0.0  \n",
       "498  1.0  0.0  0.0  \n",
       "499  0.0  0.0  1.0  \n",
       "\n",
       "[500 rows x 10 columns]"
      ]
     },
     "execution_count": 48,
     "metadata": {},
     "output_type": "execute_result"
    }
   ],
   "source": [
    "df_nuevos"
   ]
  },
  {
   "cell_type": "code",
   "execution_count": 49,
   "id": "5e372ccf",
   "metadata": {
    "ExecuteTime": {
     "end_time": "2021-10-05T04:17:53.993577Z",
     "start_time": "2021-10-05T04:17:46.680644Z"
    }
   },
   "outputs": [],
   "source": [
    "svr_poly_Prod=SVR(C=1000, kernel=\"poly\", degree=2)\n",
    "svr_poly_Prod.fit(X,y)\n",
    "y_pred= svr_poly_Prod.predict(df_nuevos)"
   ]
  },
  {
   "cell_type": "code",
   "execution_count": 50,
   "id": "3123784e",
   "metadata": {
    "ExecuteTime": {
     "end_time": "2021-10-05T04:32:02.192106Z",
     "start_time": "2021-10-05T04:32:02.178092Z"
    }
   },
   "outputs": [],
   "source": [
    "y_pred= pd.DataFrame(y_pred,columns=['y_pred'])\n",
    "y_pred.to_csv('Roldan.csv',index=False)"
   ]
  },
  {
   "cell_type": "code",
   "execution_count": 51,
   "id": "c7ac8c0f",
   "metadata": {
    "ExecuteTime": {
     "end_time": "2021-10-05T04:34:45.688264Z",
     "start_time": "2021-10-05T04:34:45.650643Z"
    }
   },
   "outputs": [
    {
     "data": {
      "text/html": [
       "<div>\n",
       "<style scoped>\n",
       "    .dataframe tbody tr th:only-of-type {\n",
       "        vertical-align: middle;\n",
       "    }\n",
       "\n",
       "    .dataframe tbody tr th {\n",
       "        vertical-align: top;\n",
       "    }\n",
       "\n",
       "    .dataframe thead th {\n",
       "        text-align: right;\n",
       "    }\n",
       "</style>\n",
       "<table border=\"1\" class=\"dataframe\">\n",
       "  <thead>\n",
       "    <tr style=\"text-align: right;\">\n",
       "      <th></th>\n",
       "      <th>y_pred</th>\n",
       "    </tr>\n",
       "  </thead>\n",
       "  <tbody>\n",
       "    <tr>\n",
       "      <th>0</th>\n",
       "      <td>11.287069</td>\n",
       "    </tr>\n",
       "    <tr>\n",
       "      <th>1</th>\n",
       "      <td>9.566389</td>\n",
       "    </tr>\n",
       "    <tr>\n",
       "      <th>2</th>\n",
       "      <td>14.820739</td>\n",
       "    </tr>\n",
       "    <tr>\n",
       "      <th>3</th>\n",
       "      <td>11.117915</td>\n",
       "    </tr>\n",
       "    <tr>\n",
       "      <th>4</th>\n",
       "      <td>11.685436</td>\n",
       "    </tr>\n",
       "    <tr>\n",
       "      <th>...</th>\n",
       "      <td>...</td>\n",
       "    </tr>\n",
       "    <tr>\n",
       "      <th>495</th>\n",
       "      <td>9.401930</td>\n",
       "    </tr>\n",
       "    <tr>\n",
       "      <th>496</th>\n",
       "      <td>11.449542</td>\n",
       "    </tr>\n",
       "    <tr>\n",
       "      <th>497</th>\n",
       "      <td>9.120397</td>\n",
       "    </tr>\n",
       "    <tr>\n",
       "      <th>498</th>\n",
       "      <td>8.667278</td>\n",
       "    </tr>\n",
       "    <tr>\n",
       "      <th>499</th>\n",
       "      <td>9.946882</td>\n",
       "    </tr>\n",
       "  </tbody>\n",
       "</table>\n",
       "<p>500 rows × 1 columns</p>\n",
       "</div>"
      ],
      "text/plain": [
       "        y_pred\n",
       "0    11.287069\n",
       "1     9.566389\n",
       "2    14.820739\n",
       "3    11.117915\n",
       "4    11.685436\n",
       "..         ...\n",
       "495   9.401930\n",
       "496  11.449542\n",
       "497   9.120397\n",
       "498   8.667278\n",
       "499   9.946882\n",
       "\n",
       "[500 rows x 1 columns]"
      ]
     },
     "execution_count": 51,
     "metadata": {},
     "output_type": "execute_result"
    }
   ],
   "source": [
    "y_pred"
   ]
  },
  {
   "cell_type": "code",
   "execution_count": null,
   "id": "69a896ff",
   "metadata": {},
   "outputs": [],
   "source": []
  }
 ],
 "metadata": {
  "kernelspec": {
   "display_name": "Python 3 (ipykernel)",
   "language": "python",
   "name": "python3"
  },
  "language_info": {
   "codemirror_mode": {
    "name": "ipython",
    "version": 3
   },
   "file_extension": ".py",
   "mimetype": "text/x-python",
   "name": "python",
   "nbconvert_exporter": "python",
   "pygments_lexer": "ipython3",
   "version": "3.9.7"
  },
  "toc": {
   "base_numbering": 1,
   "nav_menu": {},
   "number_sections": true,
   "sideBar": true,
   "skip_h1_title": true,
   "title_cell": "Segunda Parte - PARCIAL AA II",
   "title_sidebar": "Contents",
   "toc_cell": true,
   "toc_position": {
    "height": "514.41px",
    "left": "21px",
    "top": "110.052px",
    "width": "302.205px"
   },
   "toc_section_display": true,
   "toc_window_display": false
  },
  "varInspector": {
   "cols": {
    "lenName": 16,
    "lenType": 16,
    "lenVar": 40
   },
   "kernels_config": {
    "python": {
     "delete_cmd_postfix": "",
     "delete_cmd_prefix": "del ",
     "library": "var_list.py",
     "varRefreshCmd": "print(var_dic_list())"
    },
    "r": {
     "delete_cmd_postfix": ") ",
     "delete_cmd_prefix": "rm(",
     "library": "var_list.r",
     "varRefreshCmd": "cat(var_dic_list()) "
    }
   },
   "types_to_exclude": [
    "module",
    "function",
    "builtin_function_or_method",
    "instance",
    "_Feature"
   ],
   "window_display": false
  }
 },
 "nbformat": 4,
 "nbformat_minor": 5
}
